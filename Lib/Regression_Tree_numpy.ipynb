{
 "cells": [
  {
   "cell_type": "code",
   "execution_count": 22,
   "id": "23210700",
   "metadata": {},
   "outputs": [],
   "source": [
    "# Importing Basic Libraries\n",
    "import pandas as pd \n",
    "import numpy as np \n",
    "\n",
    "class NodeRegression:\n",
    "    \"\"\"\n",
    "    Class to grow a regression decision tree\n",
    "    \"\"\"\n",
    "    def __init__(\n",
    "        self, \n",
    "        Y: list,\n",
    "        X: pd.DataFrame,\n",
    "        min_samples_split=None,\n",
    "        max_depth=None,\n",
    "        depth=None,\n",
    "        node_type=None,\n",
    "        rule=None\n",
    "    ):\n",
    "        # Initialize the node with data and hyperparameters\n",
    "        \n",
    "        # Store the target variable (Y) and features (X)\n",
    "        self.Y = Y \n",
    "        self.X = X\n",
    "\n",
    "        # Set hyperparameters with defaults if not provided\n",
    "        self.min_samples_split = min_samples_split if min_samples_split else 20\n",
    "        self.max_depth = max_depth if max_depth else 5\n",
    "\n",
    "        # Initialize the current depth of the node\n",
    "        self.depth = depth if depth else 0\n",
    "\n",
    "        # Extract feature names\n",
    "        self.features = list(self.X.columns)\n",
    "\n",
    "        # Set the node type and rule for splitting\n",
    "        self.node_type = node_type if node_type else 'root'\n",
    "        self.rule = rule if rule else \"\"\n",
    "\n",
    "        # Calculate the mean of Y\n",
    "        self.ymean = np.mean(Y)\n",
    "\n",
    "        # Calculate residuals (Y - mean(Y))\n",
    "        self.residuals = self.Y - self.ymean\n",
    "\n",
    "        # Calculate mean squared error (MSE) of the node\n",
    "        self.mse = self.get_mse(Y, self.ymean)\n",
    "\n",
    "        # Store the number of observations in the node\n",
    "        self.n = len(Y)\n",
    "\n",
    "        # Initialize left and right child nodes as empty nodes\n",
    "        self.left = None \n",
    "        self.right = None \n",
    "\n",
    "        # Default values for splits\n",
    "        self.best_feature = None \n",
    "        self.best_value = None \n",
    "\n",
    "    def get_mse(self, y_true, y_pred) -> float:\n",
    "        \"\"\"\n",
    "        Method to calculate the mean squared error \n",
    "        \"\"\"\n",
    "        return np.mean((y_true - y_pred) ** 2)\n",
    "\n",
    "    def ma(self, x: np.array, window: int) -> np.array:\n",
    "        \"\"\"\n",
    "        Calculates the moving average of the given list. \n",
    "        \"\"\"\n",
    "        return np.convolve(x, np.ones(window), 'valid') / window\n",
    "\n",
    "    def best_split(self) -> tuple:\n",
    "        \"\"\"\n",
    "        Given the X features and Y targets, calculates the best split \n",
    "        for a decision tree\n",
    "        \"\"\"\n",
    "        # Create a dataset for splitting\n",
    "        df = self.X.copy()\n",
    "        df['Y'] = self.Y\n",
    "\n",
    "        # Get the MSE for the base input\n",
    "        mse_base = self.mse\n",
    "\n",
    "        # Default best feature and split\n",
    "        best_feature = None\n",
    "        best_value = None\n",
    "\n",
    "        for feature in self.features:\n",
    "            # Drop missing values and sort by feature\n",
    "            Xdf = df.dropna().sort_values(feature)\n",
    "\n",
    "            # Calculate rolling average of unique feature values\n",
    "            xmeans = self.ma(Xdf[feature].unique(), 2)\n",
    "\n",
    "            for value in xmeans:\n",
    "                # Split data into left and right based on feature value\n",
    "                left_y = Xdf[Xdf[feature] < value]['Y'].values\n",
    "                right_y = Xdf[Xdf[feature] >= value]['Y'].values\n",
    "\n",
    "                # Calculate means of left and right Y\n",
    "                left_mean = np.mean(left_y)\n",
    "                right_mean = np.mean(right_y)\n",
    "\n",
    "                # Calculate residuals for left and right\n",
    "                res_left = left_y - left_mean \n",
    "                res_right = right_y - right_mean\n",
    "\n",
    "                # Concatenate residuals\n",
    "                r = np.concatenate((res_left, res_right), axis=None)\n",
    "\n",
    "                # Calculate MSE for the split\n",
    "                n = len(r)\n",
    "                r = r ** 2\n",
    "                r = np.sum(r)\n",
    "                mse_split = r / n\n",
    "\n",
    "                # Check if this is the best split so far\n",
    "                if mse_split < mse_base:\n",
    "                    best_feature = feature\n",
    "                    best_value = value \n",
    "\n",
    "                    # Set the best gain to the current one\n",
    "                    mse_base = mse_split\n",
    "\n",
    "        return (best_feature, best_value)\n",
    "\n",
    "    def grow_tree(self):\n",
    "        \"\"\"\n",
    "        Recursive method to create the decision tree\n",
    "        \"\"\"\n",
    "        # Create a DataFrame from the data \n",
    "        df = self.X.copy()\n",
    "        df['Y'] = self.Y\n",
    "\n",
    "        # If there is a gain to be achieved and conditions are met, split further\n",
    "        if (self.depth < self.max_depth) and (self.n >= self.min_samples_split):\n",
    "\n",
    "            # Get the best split \n",
    "            best_feature, best_value = self.best_split()\n",
    "\n",
    "            if best_feature is not None:\n",
    "                # Save the best split to the current node \n",
    "                self.best_feature = best_feature\n",
    "                self.best_value = best_value\n",
    "\n",
    "                # Split data into left and right nodes\n",
    "                left_df, right_df = df[df[best_feature] <= best_value].copy(), df[df[best_feature] > best_value].copy()\n",
    "\n",
    "                # Create left and right child nodes\n",
    "                left = NodeRegression(\n",
    "                    left_df['Y'].values.tolist(), \n",
    "                    left_df[self.features], \n",
    "                    depth=self.depth + 1, \n",
    "                    max_depth=self.max_depth, \n",
    "                    min_samples_split=self.min_samples_split, \n",
    "                    node_type='left_node',\n",
    "                    rule=f\"{best_feature} <= {round(best_value, 3)}\"\n",
    "                )\n",
    "\n",
    "                self.left = left \n",
    "                self.left.grow_tree()\n",
    "\n",
    "                right = NodeRegression(\n",
    "                    right_df['Y'].values.tolist(), \n",
    "                    right_df[self.features], \n",
    "                    depth=self.depth + 1, \n",
    "                    max_depth=self.max_depth, \n",
    "                    min_samples_split=self.min_samples_split,\n",
    "                    node_type='right_node',\n",
    "                    rule=f\"{best_feature} > {round(best_value, 3)}\"\n",
    "                )\n",
    "\n",
    "                self.right = right\n",
    "                self.right.grow_tree()\n",
    "\n",
    "    def print_info(self, width=4):\n",
    "        \"\"\"\n",
    "        Method to print information about the tree\n",
    "        \"\"\"\n",
    "        # Define the number of spaces \n",
    "        const = int(self.depth * width ** 1.5)\n",
    "        spaces = \"-\" * const\n",
    "        \n",
    "        if self.node_type == 'root':\n",
    "            print(\"Root\")\n",
    "        else:\n",
    "            print(f\"|{spaces} Split rule: {self.rule}\")\n",
    "        print(f\"{' ' * const}   | MSE of the node: {round(self.mse, 2)}\")\n",
    "        print(f\"{' ' * const}   | Count of observations in node: {self.n}\")\n",
    "        print(f\"{' ' * const}   | Prediction of node: {round(self.ymean, 3)}\")   \n",
    "\n",
    "    def print_tree(self):\n",
    "        \"\"\"\n",
    "        Prints the entire tree from the current node to the bottom\n",
    "        \"\"\"\n",
    "        self.print_info() \n",
    "        \n",
    "        if self.left is not None: \n",
    "            self.left.print_tree()\n",
    "        \n",
    "        if self.right is not None:\n",
    "            self.right.print_tree()\n"
   ]
  },
  {
   "cell_type": "code",
   "execution_count": 23,
   "id": "345ea467",
   "metadata": {},
   "outputs": [],
   "source": [
    "# Randomly shuffle the samples in X and y\n",
    "def shuffle_data(X, y, seed=None):\n",
    "    \"\"\" Random shuffle of the samples in X and y \"\"\"\n",
    "    # Set a seed for reproducibility if provided\n",
    "    if seed:\n",
    "        np.random.seed(seed)\n",
    "    \n",
    "    # Generate an array of indices and shuffle them\n",
    "    idx = np.arange(X.shape[0])\n",
    "    np.random.shuffle(idx)\n",
    "\n",
    "    try:\n",
    "        # If X and y are numpy arrays, shuffle them using the shuffled indices\n",
    "        return X[idx], y[idx]\n",
    "    except:\n",
    "        # If X and y are pandas DataFrames or Series, shuffle them using the shuffled indices\n",
    "        return X.iloc[idx], y.iloc[idx]\n",
    "\n",
    "# Split the data into training and testing sets\n",
    "def train_test_split(X, y, test_size=0.5, shuffle=True, seed=None):\n",
    "    \"\"\" Split the data into train and test sets \"\"\"\n",
    "    if shuffle:\n",
    "        # Shuffle the data using the shuffle_data function\n",
    "        X, y = shuffle_data(X, y, seed)\n",
    "    \n",
    "    # Calculate the index for splitting the data based on the test_size\n",
    "    split_i = len(y) - int(len(y) // (1 / test_size))\n",
    "    \n",
    "    # Split the data into training and testing sets\n",
    "    X_train, X_test = X[:split_i], X[split_i:]\n",
    "    y_train, y_test = y[:split_i], y[split_i:]\n",
    "\n",
    "    return X_train, X_test, y_train, y_test\n"
   ]
  },
  {
   "cell_type": "code",
   "execution_count": 24,
   "id": "e2e6cedf",
   "metadata": {},
   "outputs": [],
   "source": [
    "# Specify the path\n",
    "data_path = \"./EPL_Soccer_MLR_LR.csv\"\n",
    "\n",
    "# Read the CSV file into a DataFrame\n",
    "df = pd.read_csv(data_path)\n",
    "\n",
    "# Remove rows with all missing values (NaN)\n",
    "df.dropna(axis=0, how='all', thresh=None, subset=None, inplace=True)\n",
    "\n",
    "# Select only the numeric columns (dropping categorical columns)\n",
    "new_df = df.select_dtypes(['number'])\n"
   ]
  },
  {
   "cell_type": "code",
   "execution_count": 25,
   "id": "dbec9db8",
   "metadata": {},
   "outputs": [],
   "source": [
    "# Selecting columns with numeric data types (integers or floats)\n",
    "new_df = df.select_dtypes(['number'])\n"
   ]
  },
  {
   "cell_type": "code",
   "execution_count": 26,
   "id": "e5be6876",
   "metadata": {},
   "outputs": [],
   "source": [
    "# Extracting independent features (all columns except the last one)\n",
    "X = new_df.iloc[:, :-1]\n",
    "\n",
    "# Extracting the dependent variable (the last column - Score)\n",
    "y = new_df.iloc[:, -1]\n"
   ]
  },
  {
   "cell_type": "code",
   "execution_count": 27,
   "id": "301b4767",
   "metadata": {},
   "outputs": [],
   "source": [
    "# Train test split\n",
    "X_train, X_test, y_train, y_test = train_test_split(X,y,test_size=0.2, seed=42)"
   ]
  },
  {
   "cell_type": "code",
   "execution_count": 28,
   "id": "f6289deb",
   "metadata": {},
   "outputs": [],
   "source": [
    "# Calculation of Correlated Matrix\n",
    "correlated_features = set()\n",
    "correlation_matrix = X.corr()"
   ]
  },
  {
   "cell_type": "code",
   "execution_count": 29,
   "id": "845b1d8d",
   "metadata": {},
   "outputs": [
    {
     "data": {
      "text/plain": [
       "{'Height', 'MinutestoGoalRatio', 'ShotsPerGame', 'Weight'}"
      ]
     },
     "execution_count": 29,
     "metadata": {},
     "output_type": "execute_result"
    }
   ],
   "source": [
    "# Finding correlated columns\n",
    "\n",
    "# Initialize a set to correlated column names\n",
    "correlated_features = set()\n",
    "\n",
    "# Loop through the columns of the correlation matrix\n",
    "for i in range(len(correlation_matrix.columns)):\n",
    "    for j in range(i):\n",
    "        # Check for value is greater than 0.8\n",
    "        if abs(correlation_matrix.iloc[i, j]) > 0.8:\n",
    "            # If true add the column name to the set\n",
    "            colname = correlation_matrix.columns[i]\n",
    "            correlated_features.add(colname)\n",
    "\n",
    "# Display Correlated features           \n",
    "correlated_features"
   ]
  },
  {
   "cell_type": "code",
   "execution_count": null,
   "id": "214e4f4e",
   "metadata": {},
   "outputs": [],
   "source": [
    "# Dropping correlated features\n",
    "\n",
    "# training data (X_train)\n",
    "X_train.drop(columns=correlated_features, axis=1, inplace=True)\n",
    "\n",
    "# test data (X_test)\n",
    "X_test.drop(columns=correlated_features, axis=1, inplace=True)\n",
    "\n",
    "# Original feature matrix (X)\n",
    "X.drop(columns=correlated_features, axis=1, inplace=True)\n"
   ]
  },
  {
   "cell_type": "code",
   "execution_count": 31,
   "id": "9b7d9bb0",
   "metadata": {},
   "outputs": [],
   "source": [
    "# Creating the root node\n",
    "root = NodeRegression(y_train, X_train, max_depth=2, min_samples_split=3)"
   ]
  },
  {
   "cell_type": "code",
   "execution_count": 32,
   "id": "1df531a5",
   "metadata": {},
   "outputs": [
    {
     "data": {
      "text/plain": [
       "<__main__.NodeRegression at 0x1ea0c2d9ee0>"
      ]
     },
     "execution_count": 32,
     "metadata": {},
     "output_type": "execute_result"
    }
   ],
   "source": [
    "root"
   ]
  },
  {
   "cell_type": "code",
   "execution_count": 33,
   "id": "1db8135e",
   "metadata": {},
   "outputs": [],
   "source": [
    "# Growing the tree recursively\n",
    "root.grow_tree()"
   ]
  },
  {
   "cell_type": "code",
   "execution_count": 34,
   "id": "42061113",
   "metadata": {},
   "outputs": [
    {
     "name": "stdout",
     "output_type": "stream",
     "text": [
      "Root\n",
      "   | MSE of the node: 35.87\n",
      "   | Count of observations in node: 162\n",
      "   | Prediction of node: 13.587\n",
      "|-------- Split rule: Cost <= 68.05\n",
      "           | MSE of the node: 5.33\n",
      "           | Count of observations in node: 93\n",
      "           | Prediction of node: 9.187\n",
      "|---------------- Split rule: Cost <= 44.65\n",
      "                   | MSE of the node: 1.8\n",
      "                   | Count of observations in node: 44\n",
      "                   | Prediction of node: 7.431\n",
      "|---------------- Split rule: Cost > 44.65\n",
      "                   | MSE of the node: 3.24\n",
      "                   | Count of observations in node: 49\n",
      "                   | Prediction of node: 10.764\n",
      "|-------- Split rule: Cost > 68.05\n",
      "           | MSE of the node: 15.78\n",
      "           | Count of observations in node: 69\n",
      "           | Prediction of node: 19.516\n",
      "|---------------- Split rule: Cost <= 109.3\n",
      "                   | MSE of the node: 6.13\n",
      "                   | Count of observations in node: 50\n",
      "                   | Prediction of node: 17.8\n",
      "|---------------- Split rule: Cost > 109.3\n",
      "                   | MSE of the node: 13.03\n",
      "                   | Count of observations in node: 19\n",
      "                   | Prediction of node: 24.032\n"
     ]
    }
   ],
   "source": [
    "# Printing tree \n",
    "root.print_tree()"
   ]
  },
  {
   "cell_type": "markdown",
   "id": "e9ae09a4",
   "metadata": {},
   "source": [
    "<hr>"
   ]
  },
  {
   "cell_type": "code",
   "execution_count": 35,
   "id": "02de33bb",
   "metadata": {},
   "outputs": [],
   "source": [
    "# Load the dataset from the specified path\n",
    "data_path = \"./EPL_Soccer_MLR_LR.csv\"\n",
    "df = pd.read_csv(data_path)\n",
    "\n",
    "# Drop rows with all null values\n",
    "df.dropna(axis=0, how='all', inplace=True)\n",
    "\n",
    "# Select only numerical columns as the categorical ones are not needed\n",
    "new_df = df.select_dtypes(['number'])\n",
    "\n",
    "# Split the dataset into independent variables (X) and the dependent variable (y)\n",
    "X = new_df.iloc[:, :-1]\n",
    "y = new_df.iloc[:, -1]\n",
    "\n",
    "# Split the data into training and testing sets\n",
    "X_train, X_test, y_train, y_test = train_test_split(X, y, test_size=0.2, seed=42)\n",
    "\n",
    "# Find highly correlated features\n",
    "correlated_features = set()\n",
    "correlation_matrix = X.corr()\n",
    "\n",
    "for i in range(len(correlation_matrix.columns)):\n",
    "    for j in range(i):\n",
    "        if abs(correlation_matrix.iloc[i, j]) > 0.8:\n",
    "            colname = correlation_matrix.columns[i]\n",
    "            correlated_features.add(colname)\n",
    "\n",
    "# Remove correlated features from the training and testing data\n",
    "X_train.drop(columns=correlated_features, axis=1, inplace=True)\n",
    "X_test.drop(columns=correlated_features, axis=1, inplace=True)\n",
    "X.drop(columns=correlated_features, axis=1, inplace=True)\n"
   ]
  },
  {
   "cell_type": "code",
   "execution_count": 36,
   "id": "a3ceb47e",
   "metadata": {},
   "outputs": [
    {
     "data": {
      "text/plain": [
       "array([0.46196735, 0.74246175, 0.87827764, 0.73471287, 0.82410885])"
      ]
     },
     "execution_count": 36,
     "metadata": {},
     "output_type": "execute_result"
    }
   ],
   "source": [
    "from sklearn.model_selection import cross_val_score\n",
    "from sklearn.tree import DecisionTreeRegressor\n",
    "\n",
    "# Create a DecisionTreeRegressor\n",
    "regressor = DecisionTreeRegressor(random_state=0)\n",
    "\n",
    "# Perform cross-validation with 5 folds and calculate the scores\n",
    "cross_val_score(regressor, X, y, cv=5)\n"
   ]
  },
  {
   "cell_type": "code",
   "execution_count": 16,
   "id": "d45b7eb9",
   "metadata": {},
   "outputs": [
    {
     "name": "stdout",
     "output_type": "stream",
     "text": [
      "Accuracy of model :  0.728305692\n"
     ]
    }
   ],
   "source": [
    "acc = [0.46196735, 0.74246175, 0.87827764, 0.73471287, 0.82410885]\n",
    "\n",
    "print(\"Accuracy of model : \", np.mean(acc))"
   ]
  },
  {
   "cell_type": "markdown",
   "id": "8b894b28",
   "metadata": {},
   "source": [
    "<hr>"
   ]
  },
  {
   "cell_type": "markdown",
   "id": "5a18852f",
   "metadata": {},
   "source": []
  }
 ],
 "metadata": {
  "kernelspec": {
   "display_name": "Python 3 (ipykernel)",
   "language": "python",
   "name": "python3"
  },
  "language_info": {
   "codemirror_mode": {
    "name": "ipython",
    "version": 3
   },
   "file_extension": ".py",
   "mimetype": "text/x-python",
   "name": "python",
   "nbconvert_exporter": "python",
   "pygments_lexer": "ipython3",
   "version": "3.9.5"
  }
 },
 "nbformat": 4,
 "nbformat_minor": 5
}
